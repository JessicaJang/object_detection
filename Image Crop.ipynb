{
 "cells": [
  {
   "cell_type": "code",
   "execution_count": 1,
   "metadata": {},
   "outputs": [],
   "source": [
    "import os\n",
    "import sys\n",
    "import json\n",
    "import datetime\n",
    "import numpy as np\n",
    "import skimage.draw"
   ]
  },
  {
   "cell_type": "code",
   "execution_count": 2,
   "metadata": {},
   "outputs": [
    {
     "name": "stderr",
     "output_type": "stream",
     "text": [
      "C:\\Users\\kwon\\anaconda3\\envs\\GPUtest\\lib\\site-packages\\tensorflow\\python\\framework\\dtypes.py:523: FutureWarning: Passing (type, 1) or '1type' as a synonym of type is deprecated; in a future version of numpy, it will be understood as (type, (1,)) / '(1,)type'.\n",
      "  _np_qint8 = np.dtype([(\"qint8\", np.int8, 1)])\n",
      "C:\\Users\\kwon\\anaconda3\\envs\\GPUtest\\lib\\site-packages\\tensorflow\\python\\framework\\dtypes.py:524: FutureWarning: Passing (type, 1) or '1type' as a synonym of type is deprecated; in a future version of numpy, it will be understood as (type, (1,)) / '(1,)type'.\n",
      "  _np_quint8 = np.dtype([(\"quint8\", np.uint8, 1)])\n",
      "C:\\Users\\kwon\\anaconda3\\envs\\GPUtest\\lib\\site-packages\\tensorflow\\python\\framework\\dtypes.py:525: FutureWarning: Passing (type, 1) or '1type' as a synonym of type is deprecated; in a future version of numpy, it will be understood as (type, (1,)) / '(1,)type'.\n",
      "  _np_qint16 = np.dtype([(\"qint16\", np.int16, 1)])\n",
      "C:\\Users\\kwon\\anaconda3\\envs\\GPUtest\\lib\\site-packages\\tensorflow\\python\\framework\\dtypes.py:526: FutureWarning: Passing (type, 1) or '1type' as a synonym of type is deprecated; in a future version of numpy, it will be understood as (type, (1,)) / '(1,)type'.\n",
      "  _np_quint16 = np.dtype([(\"quint16\", np.uint16, 1)])\n",
      "C:\\Users\\kwon\\anaconda3\\envs\\GPUtest\\lib\\site-packages\\tensorflow\\python\\framework\\dtypes.py:527: FutureWarning: Passing (type, 1) or '1type' as a synonym of type is deprecated; in a future version of numpy, it will be understood as (type, (1,)) / '(1,)type'.\n",
      "  _np_qint32 = np.dtype([(\"qint32\", np.int32, 1)])\n",
      "C:\\Users\\kwon\\anaconda3\\envs\\GPUtest\\lib\\site-packages\\tensorflow\\python\\framework\\dtypes.py:532: FutureWarning: Passing (type, 1) or '1type' as a synonym of type is deprecated; in a future version of numpy, it will be understood as (type, (1,)) / '(1,)type'.\n",
      "  np_resource = np.dtype([(\"resource\", np.ubyte, 1)])\n",
      "Using TensorFlow backend.\n"
     ]
    }
   ],
   "source": [
    "# Root directory of the project\n",
    "ROOT_DIR = os.path.abspath(\"../\")\n",
    "\n",
    "# Pixel number which can be added or subtracted to crop the image (DEFAULT = 50)\n",
    "CROP_PERCENTAGE = 50\n",
    "\n",
    "# Import Mask RCNN\n",
    "sys.path.append(ROOT_DIR)  # To find local version of the library\n",
    "from mrcnn.config import Config\n",
    "from mrcnn import model as modellib, utils"
   ]
  },
  {
   "cell_type": "code",
   "execution_count": 3,
   "metadata": {},
   "outputs": [],
   "source": [
    "class NpEncoder(json.JSONEncoder):\n",
    "    def default(self, obj):\n",
    "        if isinstance(obj, np.integer):\n",
    "            return int(obj)\n",
    "        elif isinstance(obj, np.floating):\n",
    "            return float(obj)\n",
    "        elif isinstance(obj, np.ndarray):\n",
    "            return obj.tolist()\n",
    "        else:\n",
    "            return super(NpEncoder, self).default(obj)"
   ]
  },
  {
   "cell_type": "code",
   "execution_count": 4,
   "metadata": {},
   "outputs": [
    {
     "name": "stdout",
     "output_type": "stream",
     "text": [
      "Dataset Directory:  C:\\Users\\kwon\\Mask_RCNN\\data_crop\n"
     ]
    }
   ],
   "source": [
    "# Directory to save logs and model checkpoints, if not provided\n",
    "# through the command line argument --logs\n",
    "DEFAULT_LOGS_DIR = os.path.join(ROOT_DIR, \"logs\")\n",
    "dataset_dir = os.path.join(ROOT_DIR,\"data_crop\")\n",
    "print(\"Dataset Directory: \", dataset_dir)\n",
    "# Load mask\n",
    "def load_mask(height, width, polygons):\n",
    "    mask = np.zeros([height, width, 1],dtype=np.uint8)\n",
    "    rr, cc = skimage.draw.polygon(polygons['all_points_y'], polygons['all_points_x'])\n",
    "    mask[rr, cc, 0] = 1\n",
    "    return mask"
   ]
  },
  {
   "cell_type": "code",
   "execution_count": 5,
   "metadata": {},
   "outputs": [],
   "source": [
    "# Load original annotation\n",
    "def load_annotation():\n",
    "    annotations = json.load(open(os.path.join(dataset_dir, \"annotation/train_val_091520(3).json\")))\n",
    "    annotations = list(annotations.values())\n",
    "    annotations = [a for a in annotations if a['regions']]\n",
    "    return annotations"
   ]
  },
  {
   "cell_type": "code",
   "execution_count": 6,
   "metadata": {},
   "outputs": [],
   "source": [
    "def new_annotations():\n",
    "    origin_a = load_annotation()\n",
    "    last_check = 0\n",
    "    \n",
    "    for a in origin_a:\n",
    "        image_path = os.path.join(ROOT_DIR, \"/Users/kwon/Mask_RCNN/bridge/train/\"+a['filename'])\n",
    "        image = skimage.io.imread(image_path)\n",
    "        height, width = image.shape[:2]\n",
    "        print(\"Original Image height and width: \", height, width)\n",
    "        \n",
    "        polygon = []\n",
    "        index = 0\n",
    "        last_check = last_check + 1\n",
    "        for r in a['regions']:\n",
    "            polygon = r['shape_attributes']\n",
    "            # print(\"Shape Attributes: \", polygon)\n",
    "            \n",
    "            # load only 1 mask from the images\n",
    "            mask = load_mask(height, width, polygon)\n",
    "            # Extract bbox from mask to crop the images\n",
    "            from mrcnn import utils\n",
    "            bbox = utils.extract_bboxes(mask)\n",
    "            \n",
    "            # New bounding box to crop the image with only 1 obejct annotated\n",
    "            new_y1 = 0 if ((bbox[0][0] - CROP_PERCENTAGE) <= 0) else (bbox[0][0] - CROP_PERCENTAGE) \n",
    "            new_x1 = 0 if ((bbox[0][1] - CROP_PERCENTAGE) <= 0) else (bbox[0][1] - CROP_PERCENTAGE) \n",
    "            new_y2 = height if ((bbox[0][2] + CROP_PERCENTAGE) >= height) else (bbox[0][2] + CROP_PERCENTAGE) \n",
    "            new_x2 = width if ((bbox[0][3] + CROP_PERCENTAGE) >= width) else (bbox[0][3] + CROP_PERCENTAGE) \n",
    "            newbbox = np.array([new_y1, new_x1, new_y2, new_x2])\n",
    "            # print(\"New bounding box: \", newbbox)\n",
    "            \n",
    "            # New points_X, points_Y coordinate in new image\n",
    "            # print(\"Type of all pints:\", type(polygon['all_points_x']))\n",
    "            newpolygon_x = np.array(polygon['all_points_x']) - new_x1\n",
    "            newpolygon_y = np.array(polygon['all_points_y']) - new_y1\n",
    "            \n",
    "            # print(\"New coordinate of all x points and all y points: \", newpolygon_x, newpolygon_y)\n",
    "\n",
    "            # Save new cropped image\n",
    "            new_image = image[new_y1:new_y2, new_x1:new_x2]\n",
    "            skimage.io.imshow(new_image)\n",
    "            new_filename = a['filename'].split('.')[0] + \"_\" + str(index) + \".\" + a['filename'].split('.')[1]\n",
    "            skimage.io.imsave(new_filename, new_image)\n",
    "            index = index + 1\n",
    "            check = False if ((index>=len(a['regions'])) & (last_check>=len(origin_a))) else True\n",
    "            \n",
    "            save_new_annotation(newpolygon_x, newpolygon_y, r['region_attributes'], new_filename, a['file_attributes'], check)"
   ]
  },
  {
   "cell_type": "code",
   "execution_count": 7,
   "metadata": {},
   "outputs": [],
   "source": [
    "def save_new_annotation(newpolygon_x, newpolygon_y, class_attribute, filename, file_attribute, final_check=True):\n",
    "    # New annotation\n",
    "    new_region = {}\n",
    "    new_region['shape_attributes'] = {\"name\":\"polygon\", \n",
    "                                  \"all_points_x\": list(newpolygon_x), \n",
    "                                  \"all_points_y\": list(newpolygon_y)}\n",
    "    new_region['region_attributes'] = class_attribute\n",
    "\n",
    "    new_annotation = {}\n",
    "    new_annotation['filename'] = filename\n",
    "    \n",
    "    # Need to modify\n",
    "    new_annotation['size'] = os.path.getsize(filename)\n",
    "    new_annotation['regions'] = [new_region]\n",
    "    new_annotation['file_attributes'] = file_attribute\n",
    "\n",
    "    # new_annotation = list(new_annotation)\n",
    "    # print(\"New annotation: \", new_annotation)\n",
    "\n",
    "    # file attach\n",
    "    fin = {}\n",
    "    newkey = filename + str(new_annotation['size'])\n",
    "    # print(\"Newkey: \", newkey)\n",
    "    fin[newkey] = new_annotation\n",
    "    \n",
    "#    annotation_file = open(\"sample3.json\", \"a+\")\n",
    "    clean_fin = json.dumps(fin, cls=NpEncoder)\n",
    "    annotation_file.write(clean_fin[1:len(clean_fin)-1])\n",
    "    annotation_file.write(',') if final_check else annotation_file.write('')\n",
    "#    annotation_file.close()\n",
    "        "
   ]
  },
  {
   "cell_type": "code",
   "execution_count": null,
   "metadata": {},
   "outputs": [],
   "source": [
    "annotation_file = open(\"sample3.json\", \"w+\")\n",
    "annotation_file.write(\"{\")\n",
    "annotation_file.close()\n",
    "\n",
    "annotation_file = open(\"sample3.json\", \"a+\")\n",
    "new_annotations()\n",
    "annotation_file.write(\"}\")\n",
    "annotation_file.close()\n"
   ]
  },
  {
   "cell_type": "code",
   "execution_count": null,
   "metadata": {},
   "outputs": [],
   "source": []
  }
 ],
 "metadata": {
  "kernelspec": {
   "display_name": "Python 3",
   "language": "python",
   "name": "python3"
  },
  "language_info": {
   "codemirror_mode": {
    "name": "ipython",
    "version": 3
   },
   "file_extension": ".py",
   "mimetype": "text/x-python",
   "name": "python",
   "nbconvert_exporter": "python",
   "pygments_lexer": "ipython3",
   "version": "3.6.10"
  }
 },
 "nbformat": 4,
 "nbformat_minor": 4
}
